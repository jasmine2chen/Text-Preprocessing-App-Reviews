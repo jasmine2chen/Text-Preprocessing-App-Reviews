{
 "cells": [
  {
   "cell_type": "markdown",
   "metadata": {},
   "source": [
    "# Mobile App Review Porject\n",
    "## Initial Statistics"
   ]
  },
  {
   "cell_type": "code",
   "execution_count": 19,
   "metadata": {},
   "outputs": [],
   "source": [
    "# import libraries\n",
    "import pandas as pd\n",
    "import numpy as np\n",
    "import glob\n",
    "import missingno as msno\n",
    "import string\n",
    "import csv"
   ]
  },
  {
   "cell_type": "code",
   "execution_count": 15,
   "metadata": {},
   "outputs": [],
   "source": [
    "path='/Users/jasminechen/Module 3/542_project/'\n",
    "os.chdir(path)\n",
    "all_dir = os.listdir()"
   ]
  },
  {
   "cell_type": "code",
   "execution_count": 17,
   "metadata": {
    "scrolled": true
   },
   "outputs": [],
   "source": [
    "# combine review files \n",
    "reviews_list = []\n",
    "\n",
    "for each_dir in all_dir:\n",
    "    files = glob.glob(os.path.join(path+str(each_dir), '*_newest_*.csv'))\n",
    "    reviews_list = reviews_list + files\n",
    "    \n",
    "reviews_df = []\n",
    "for i in range(len(reviews_list)):\n",
    "    reviews_df.append(str(reviews_list[i][reviews_list[i].rfind(\"/\")+1:-4]))\n",
    "    reviews_df[i] = pd.read_csv(reviews_list[i])\n",
    "    \n",
    "    date = reviews_list[i][reviews_list[i].rfind('/')+1:reviews_list[i].rfind('/')+11]\n",
    "    category = reviews_list[i][reviews_list[i].rfind('/')+1:][:-9][reviews_list[i][reviews_list[i].rfind('/')+1:][:-9].rfind('TOP_FREE_')+9:]\n",
    "    \n",
    "    # adding date column to the dataframe\n",
    "    reviews_df[i]['fileDate'] = date\n",
    "    # adding app category column to the dataframe\n",
    "    reviews_df[i]['appCategory'] = category.replace('_',' ')\n",
    "    \n",
    "full_data_reviews = pd.concat(reviews_df)    "
   ]
  },
  {
   "cell_type": "code",
   "execution_count": 20,
   "metadata": {
    "scrolled": true
   },
   "outputs": [
    {
     "name": "stderr",
     "output_type": "stream",
     "text": [
      "/Users/jasminechen/opt/anaconda3/lib/python3.7/site-packages/ipykernel_launcher.py:30: FutureWarning: Sorting because non-concatenation axis is not aligned. A future version\n",
      "of pandas will change to not sort by default.\n",
      "\n",
      "To accept the future behavior, pass 'sort=False'.\n",
      "\n",
      "To retain the current behavior and silence the warning, pass 'sort=True'.\n",
      "\n"
     ]
    }
   ],
   "source": [
    "# combine details files \n",
    "\n",
    "details_list = []\n",
    "\n",
    "for each_dir in all_dir:\n",
    "    files = glob.glob(os.path.join(path+str(each_dir), '*_all_detailed_*.csv'))\n",
    "    details_list = details_list + files\n",
    "\n",
    "details_df = []\n",
    "\n",
    "for i in range(len(details_list)):\n",
    "    details_df.append(str(details_list[i][details_list[i].rfind(\"/\")+1:-4]))\n",
    "    with open(details_list[i]) as infile:\n",
    "        reader = csv.reader(infile)\n",
    "        headers = next(reader)\n",
    "    header_indices = [i for i, item in enumerate(headers) if item]\n",
    "    details_df[i] = pd.read_csv(details_list[i], usecols=header_indices)\n",
    "    \n",
    "    # slicing out date from the file name\n",
    "    date = details_list[i][details_list[i].rfind('/')+1:details_list[i].rfind('/')+11]\n",
    "    # slicing out app category from the file name\n",
    "    category = details_list[i][details_list[i].rfind('/')+1:][:-9][details_list[i][details_list[i].rfind('/')+1:][:-9].rfind('TOP_FREE_')+9:]\n",
    "    \n",
    "    # adding date column to the dataframe\n",
    "    details_df[i]['fileDate'] = date\n",
    "    # adding app category column to the dataframe\n",
    "    details_df[i]['appCategory'] = category.replace('_',' ')\n",
    "    \n",
    "    \n",
    "full_data_details = pd.concat(details_df)\n",
    "\n",
    "full_data_details['appTitle_original'] = full_data_details['appTitle']\n",
    "full_data_details['appTitle'] = full_data_details['appTitle'].str.lower()"
   ]
  },
  {
   "cell_type": "markdown",
   "metadata": {},
   "source": [
    "### Drop duplicates and show the number of  unique review records"
   ]
  },
  {
   "cell_type": "code",
   "execution_count": 22,
   "metadata": {},
   "outputs": [
    {
     "name": "stdout",
     "output_type": "stream",
     "text": [
      "1445976\n"
     ]
    }
   ],
   "source": [
    "unique_reviews = full_data_reviews.drop_duplicates(subset = ['appTitle', 'userName', 'date', 'score', 'text'])\n",
    "print(len(unique_reviews))"
   ]
  },
  {
   "cell_type": "markdown",
   "metadata": {},
   "source": [
    "### How many unique apps are in the dataset? How many apps in each of the 8 specified app categories?"
   ]
  },
  {
   "cell_type": "code",
   "execution_count": 24,
   "metadata": {},
   "outputs": [
    {
     "name": "stderr",
     "output_type": "stream",
     "text": [
      "/Users/jasminechen/opt/anaconda3/lib/python3.7/site-packages/ipykernel_launcher.py:1: SettingWithCopyWarning: \n",
      "A value is trying to be set on a copy of a slice from a DataFrame.\n",
      "Try using .loc[row_indexer,col_indexer] = value instead\n",
      "\n",
      "See the caveats in the documentation: http://pandas.pydata.org/pandas-docs/stable/user_guide/indexing.html#returning-a-view-versus-a-copy\n",
      "  \"\"\"Entry point for launching an IPython kernel.\n",
      "/Users/jasminechen/opt/anaconda3/lib/python3.7/site-packages/ipykernel_launcher.py:2: SettingWithCopyWarning: \n",
      "A value is trying to be set on a copy of a slice from a DataFrame.\n",
      "Try using .loc[row_indexer,col_indexer] = value instead\n",
      "\n",
      "See the caveats in the documentation: http://pandas.pydata.org/pandas-docs/stable/user_guide/indexing.html#returning-a-view-versus-a-copy\n",
      "  \n"
     ]
    },
    {
     "name": "stdout",
     "output_type": "stream",
     "text": [
      "Number of unique apps:  86\n"
     ]
    },
    {
     "data": {
      "text/html": [
       "<div>\n",
       "<style scoped>\n",
       "    .dataframe tbody tr th:only-of-type {\n",
       "        vertical-align: middle;\n",
       "    }\n",
       "\n",
       "    .dataframe tbody tr th {\n",
       "        vertical-align: top;\n",
       "    }\n",
       "\n",
       "    .dataframe thead th {\n",
       "        text-align: right;\n",
       "    }\n",
       "</style>\n",
       "<table border=\"1\" class=\"dataframe\">\n",
       "  <thead>\n",
       "    <tr style=\"text-align: right;\">\n",
       "      <th></th>\n",
       "      <th>appCategory</th>\n",
       "      <th>appTitle</th>\n",
       "    </tr>\n",
       "  </thead>\n",
       "  <tbody>\n",
       "    <tr>\n",
       "      <td>0</td>\n",
       "      <td>EDUCATION</td>\n",
       "      <td>10</td>\n",
       "    </tr>\n",
       "    <tr>\n",
       "      <td>1</td>\n",
       "      <td>ENTERTAINMENT</td>\n",
       "      <td>13</td>\n",
       "    </tr>\n",
       "    <tr>\n",
       "      <td>2</td>\n",
       "      <td>FAMILY</td>\n",
       "      <td>10</td>\n",
       "    </tr>\n",
       "    <tr>\n",
       "      <td>3</td>\n",
       "      <td>FINANCE</td>\n",
       "      <td>10</td>\n",
       "    </tr>\n",
       "    <tr>\n",
       "      <td>4</td>\n",
       "      <td>GAME ACTION</td>\n",
       "      <td>11</td>\n",
       "    </tr>\n",
       "    <tr>\n",
       "      <td>5</td>\n",
       "      <td>HEALTH AND FITNESS</td>\n",
       "      <td>10</td>\n",
       "    </tr>\n",
       "    <tr>\n",
       "      <td>6</td>\n",
       "      <td>LIFESTYLE</td>\n",
       "      <td>12</td>\n",
       "    </tr>\n",
       "    <tr>\n",
       "      <td>7</td>\n",
       "      <td>MUSIC AND AUDIO</td>\n",
       "      <td>11</td>\n",
       "    </tr>\n",
       "  </tbody>\n",
       "</table>\n",
       "</div>"
      ],
      "text/plain": [
       "          appCategory  appTitle\n",
       "0           EDUCATION        10\n",
       "1       ENTERTAINMENT        13\n",
       "2              FAMILY        10\n",
       "3             FINANCE        10\n",
       "4         GAME ACTION        11\n",
       "5  HEALTH AND FITNESS        10\n",
       "6           LIFESTYLE        12\n",
       "7     MUSIC AND AUDIO        11"
      ]
     },
     "execution_count": 24,
     "metadata": {},
     "output_type": "execute_result"
    }
   ],
   "source": [
    "unique_reviews['appTitle_original'] = unique_reviews['appTitle']\n",
    "unique_reviews['appTitle'] = unique_reviews['appTitle'].str.lower()\n",
    "count_unique_apps = unique_reviews['appTitle'].nunique()\n",
    "unique_apps = unique_reviews['appTitle'].unique()\n",
    "\n",
    "print('Number of unique apps: ', count_unique_apps)\n",
    "\n",
    "appsByCategory = unique_reviews[['appCategory','appTitle']].drop_duplicates().groupby('appCategory').count().reset_index()\n",
    "appsByCategory"
   ]
  },
  {
   "cell_type": "markdown",
   "metadata": {},
   "source": [
    "### How many reviews exist in each of the eight app-categories?"
   ]
  },
  {
   "cell_type": "code",
   "execution_count": 26,
   "metadata": {},
   "outputs": [
    {
     "data": {
      "text/html": [
       "<div>\n",
       "<style scoped>\n",
       "    .dataframe tbody tr th:only-of-type {\n",
       "        vertical-align: middle;\n",
       "    }\n",
       "\n",
       "    .dataframe tbody tr th {\n",
       "        vertical-align: top;\n",
       "    }\n",
       "\n",
       "    .dataframe thead th {\n",
       "        text-align: right;\n",
       "    }\n",
       "</style>\n",
       "<table border=\"1\" class=\"dataframe\">\n",
       "  <thead>\n",
       "    <tr style=\"text-align: right;\">\n",
       "      <th></th>\n",
       "      <th>Category</th>\n",
       "      <th>Number_of_Reviews</th>\n",
       "    </tr>\n",
       "  </thead>\n",
       "  <tbody>\n",
       "    <tr>\n",
       "      <td>0</td>\n",
       "      <td>EDUCATION</td>\n",
       "      <td>128984</td>\n",
       "    </tr>\n",
       "    <tr>\n",
       "      <td>1</td>\n",
       "      <td>ENTERTAINMENT</td>\n",
       "      <td>226420</td>\n",
       "    </tr>\n",
       "    <tr>\n",
       "      <td>2</td>\n",
       "      <td>FAMILY</td>\n",
       "      <td>143707</td>\n",
       "    </tr>\n",
       "    <tr>\n",
       "      <td>3</td>\n",
       "      <td>FINANCE</td>\n",
       "      <td>185512</td>\n",
       "    </tr>\n",
       "    <tr>\n",
       "      <td>4</td>\n",
       "      <td>GAME ACTION</td>\n",
       "      <td>252872</td>\n",
       "    </tr>\n",
       "    <tr>\n",
       "      <td>5</td>\n",
       "      <td>HEALTH AND FITNESS</td>\n",
       "      <td>154168</td>\n",
       "    </tr>\n",
       "    <tr>\n",
       "      <td>6</td>\n",
       "      <td>LIFESTYLE</td>\n",
       "      <td>137350</td>\n",
       "    </tr>\n",
       "    <tr>\n",
       "      <td>7</td>\n",
       "      <td>MUSIC AND AUDIO</td>\n",
       "      <td>216963</td>\n",
       "    </tr>\n",
       "  </tbody>\n",
       "</table>\n",
       "</div>"
      ],
      "text/plain": [
       "             Category  Number_of_Reviews\n",
       "0           EDUCATION             128984\n",
       "1       ENTERTAINMENT             226420\n",
       "2              FAMILY             143707\n",
       "3             FINANCE             185512\n",
       "4         GAME ACTION             252872\n",
       "5  HEALTH AND FITNESS             154168\n",
       "6           LIFESTYLE             137350\n",
       "7     MUSIC AND AUDIO             216963"
      ]
     },
     "execution_count": 26,
     "metadata": {},
     "output_type": "execute_result"
    }
   ],
   "source": [
    "reviewsByCategory = unique_reviews[['appCategory','score']].groupby('appCategory').count().reset_index()\n",
    "reviewsByCategory.columns = ['Category', 'Number_of_Reviews']\n",
    "reviewsByCategory"
   ]
  },
  {
   "cell_type": "markdown",
   "metadata": {},
   "source": [
    "### Based on the contentRating column in the details files for each app, what are the different contentRating groups in each app-category?"
   ]
  },
  {
   "cell_type": "code",
   "execution_count": 28,
   "metadata": {},
   "outputs": [
    {
     "data": {
      "text/html": [
       "<div>\n",
       "<style scoped>\n",
       "    .dataframe tbody tr th:only-of-type {\n",
       "        vertical-align: middle;\n",
       "    }\n",
       "\n",
       "    .dataframe tbody tr th {\n",
       "        vertical-align: top;\n",
       "    }\n",
       "\n",
       "    .dataframe thead th {\n",
       "        text-align: right;\n",
       "    }\n",
       "</style>\n",
       "<table border=\"1\" class=\"dataframe\">\n",
       "  <thead>\n",
       "    <tr style=\"text-align: right;\">\n",
       "      <th></th>\n",
       "      <th>appCategory</th>\n",
       "      <th>contentRating</th>\n",
       "    </tr>\n",
       "  </thead>\n",
       "  <tbody>\n",
       "    <tr>\n",
       "      <td>0</td>\n",
       "      <td>EDUCATION</td>\n",
       "      <td>Everyone</td>\n",
       "    </tr>\n",
       "    <tr>\n",
       "      <td>1</td>\n",
       "      <td>ENTERTAINMENT</td>\n",
       "      <td>Everyone</td>\n",
       "    </tr>\n",
       "    <tr>\n",
       "      <td>2</td>\n",
       "      <td>ENTERTAINMENT</td>\n",
       "      <td>Mature 17+</td>\n",
       "    </tr>\n",
       "    <tr>\n",
       "      <td>3</td>\n",
       "      <td>ENTERTAINMENT</td>\n",
       "      <td>Teen</td>\n",
       "    </tr>\n",
       "    <tr>\n",
       "      <td>4</td>\n",
       "      <td>FAMILY</td>\n",
       "      <td>Everyone</td>\n",
       "    </tr>\n",
       "    <tr>\n",
       "      <td>5</td>\n",
       "      <td>FAMILY</td>\n",
       "      <td>Everyone 10+</td>\n",
       "    </tr>\n",
       "    <tr>\n",
       "      <td>6</td>\n",
       "      <td>FINANCE</td>\n",
       "      <td>Everyone</td>\n",
       "    </tr>\n",
       "    <tr>\n",
       "      <td>7</td>\n",
       "      <td>GAME ACTION</td>\n",
       "      <td>Everyone</td>\n",
       "    </tr>\n",
       "    <tr>\n",
       "      <td>8</td>\n",
       "      <td>GAME ACTION</td>\n",
       "      <td>Mature 17+</td>\n",
       "    </tr>\n",
       "    <tr>\n",
       "      <td>9</td>\n",
       "      <td>GAME ACTION</td>\n",
       "      <td>Teen</td>\n",
       "    </tr>\n",
       "    <tr>\n",
       "      <td>10</td>\n",
       "      <td>HEALTH AND FITNESS</td>\n",
       "      <td>Everyone</td>\n",
       "    </tr>\n",
       "    <tr>\n",
       "      <td>11</td>\n",
       "      <td>LIFESTYLE</td>\n",
       "      <td>Everyone</td>\n",
       "    </tr>\n",
       "    <tr>\n",
       "      <td>12</td>\n",
       "      <td>LIFESTYLE</td>\n",
       "      <td>Mature 17+</td>\n",
       "    </tr>\n",
       "    <tr>\n",
       "      <td>13</td>\n",
       "      <td>LIFESTYLE</td>\n",
       "      <td>Teen</td>\n",
       "    </tr>\n",
       "    <tr>\n",
       "      <td>14</td>\n",
       "      <td>MUSIC AND AUDIO</td>\n",
       "      <td>Everyone</td>\n",
       "    </tr>\n",
       "    <tr>\n",
       "      <td>15</td>\n",
       "      <td>MUSIC AND AUDIO</td>\n",
       "      <td>Teen</td>\n",
       "    </tr>\n",
       "  </tbody>\n",
       "</table>\n",
       "</div>"
      ],
      "text/plain": [
       "           appCategory contentRating\n",
       "0            EDUCATION      Everyone\n",
       "1        ENTERTAINMENT      Everyone\n",
       "2        ENTERTAINMENT    Mature 17+\n",
       "3        ENTERTAINMENT          Teen\n",
       "4               FAMILY      Everyone\n",
       "5               FAMILY  Everyone 10+\n",
       "6              FINANCE      Everyone\n",
       "7          GAME ACTION      Everyone\n",
       "8          GAME ACTION    Mature 17+\n",
       "9          GAME ACTION          Teen\n",
       "10  HEALTH AND FITNESS      Everyone\n",
       "11           LIFESTYLE      Everyone\n",
       "12           LIFESTYLE    Mature 17+\n",
       "13           LIFESTYLE          Teen\n",
       "14     MUSIC AND AUDIO      Everyone\n",
       "15     MUSIC AND AUDIO          Teen"
      ]
     },
     "execution_count": 28,
     "metadata": {},
     "output_type": "execute_result"
    }
   ],
   "source": [
    "contentRatingByCategory = full_data_details[['appCategory','contentRating']].groupby(['appCategory','contentRating']).count().reset_index()\n",
    "contentRatingByCategory"
   ]
  },
  {
   "cell_type": "markdown",
   "metadata": {},
   "source": [
    "### How many apps exist in each of these contentRating-sub-groups in each app-category?"
   ]
  },
  {
   "cell_type": "code",
   "execution_count": 29,
   "metadata": {},
   "outputs": [
    {
     "data": {
      "text/html": [
       "<div>\n",
       "<style scoped>\n",
       "    .dataframe tbody tr th:only-of-type {\n",
       "        vertical-align: middle;\n",
       "    }\n",
       "\n",
       "    .dataframe tbody tr th {\n",
       "        vertical-align: top;\n",
       "    }\n",
       "\n",
       "    .dataframe thead th {\n",
       "        text-align: right;\n",
       "    }\n",
       "</style>\n",
       "<table border=\"1\" class=\"dataframe\">\n",
       "  <thead>\n",
       "    <tr style=\"text-align: right;\">\n",
       "      <th></th>\n",
       "      <th>appCategory</th>\n",
       "      <th>contentRating</th>\n",
       "      <th>Number_of_Apps</th>\n",
       "    </tr>\n",
       "  </thead>\n",
       "  <tbody>\n",
       "    <tr>\n",
       "      <td>0</td>\n",
       "      <td>EDUCATION</td>\n",
       "      <td>Everyone</td>\n",
       "      <td>10</td>\n",
       "    </tr>\n",
       "    <tr>\n",
       "      <td>1</td>\n",
       "      <td>ENTERTAINMENT</td>\n",
       "      <td>Everyone</td>\n",
       "      <td>4</td>\n",
       "    </tr>\n",
       "    <tr>\n",
       "      <td>2</td>\n",
       "      <td>ENTERTAINMENT</td>\n",
       "      <td>Mature 17+</td>\n",
       "      <td>1</td>\n",
       "    </tr>\n",
       "    <tr>\n",
       "      <td>3</td>\n",
       "      <td>ENTERTAINMENT</td>\n",
       "      <td>Teen</td>\n",
       "      <td>8</td>\n",
       "    </tr>\n",
       "    <tr>\n",
       "      <td>4</td>\n",
       "      <td>FAMILY</td>\n",
       "      <td>Everyone</td>\n",
       "      <td>7</td>\n",
       "    </tr>\n",
       "    <tr>\n",
       "      <td>5</td>\n",
       "      <td>FAMILY</td>\n",
       "      <td>Everyone 10+</td>\n",
       "      <td>3</td>\n",
       "    </tr>\n",
       "    <tr>\n",
       "      <td>6</td>\n",
       "      <td>FINANCE</td>\n",
       "      <td>Everyone</td>\n",
       "      <td>10</td>\n",
       "    </tr>\n",
       "    <tr>\n",
       "      <td>7</td>\n",
       "      <td>GAME ACTION</td>\n",
       "      <td>Everyone</td>\n",
       "      <td>5</td>\n",
       "    </tr>\n",
       "    <tr>\n",
       "      <td>8</td>\n",
       "      <td>GAME ACTION</td>\n",
       "      <td>Mature 17+</td>\n",
       "      <td>2</td>\n",
       "    </tr>\n",
       "    <tr>\n",
       "      <td>9</td>\n",
       "      <td>GAME ACTION</td>\n",
       "      <td>Teen</td>\n",
       "      <td>4</td>\n",
       "    </tr>\n",
       "    <tr>\n",
       "      <td>10</td>\n",
       "      <td>HEALTH AND FITNESS</td>\n",
       "      <td>Everyone</td>\n",
       "      <td>10</td>\n",
       "    </tr>\n",
       "    <tr>\n",
       "      <td>11</td>\n",
       "      <td>LIFESTYLE</td>\n",
       "      <td>Everyone</td>\n",
       "      <td>11</td>\n",
       "    </tr>\n",
       "    <tr>\n",
       "      <td>12</td>\n",
       "      <td>LIFESTYLE</td>\n",
       "      <td>Mature 17+</td>\n",
       "      <td>1</td>\n",
       "    </tr>\n",
       "    <tr>\n",
       "      <td>13</td>\n",
       "      <td>LIFESTYLE</td>\n",
       "      <td>Teen</td>\n",
       "      <td>1</td>\n",
       "    </tr>\n",
       "    <tr>\n",
       "      <td>14</td>\n",
       "      <td>MUSIC AND AUDIO</td>\n",
       "      <td>Everyone</td>\n",
       "      <td>2</td>\n",
       "    </tr>\n",
       "    <tr>\n",
       "      <td>15</td>\n",
       "      <td>MUSIC AND AUDIO</td>\n",
       "      <td>Teen</td>\n",
       "      <td>9</td>\n",
       "    </tr>\n",
       "  </tbody>\n",
       "</table>\n",
       "</div>"
      ],
      "text/plain": [
       "           appCategory contentRating  Number_of_Apps\n",
       "0            EDUCATION      Everyone              10\n",
       "1        ENTERTAINMENT      Everyone               4\n",
       "2        ENTERTAINMENT    Mature 17+               1\n",
       "3        ENTERTAINMENT          Teen               8\n",
       "4               FAMILY      Everyone               7\n",
       "5               FAMILY  Everyone 10+               3\n",
       "6              FINANCE      Everyone              10\n",
       "7          GAME ACTION      Everyone               5\n",
       "8          GAME ACTION    Mature 17+               2\n",
       "9          GAME ACTION          Teen               4\n",
       "10  HEALTH AND FITNESS      Everyone              10\n",
       "11           LIFESTYLE      Everyone              11\n",
       "12           LIFESTYLE    Mature 17+               1\n",
       "13           LIFESTYLE          Teen               1\n",
       "14     MUSIC AND AUDIO      Everyone               2\n",
       "15     MUSIC AND AUDIO          Teen               9"
      ]
     },
     "execution_count": 29,
     "metadata": {},
     "output_type": "execute_result"
    }
   ],
   "source": [
    "appsContentCcategory = full_data_details[['appCategory','contentRating','appTitle']].drop_duplicates().groupby(['appCategory','contentRating']).count().reset_index()\n",
    "appsContentCcategory.columns = ['appCategory', 'contentRating', 'Number_of_Apps']\n",
    "appsContentCcategory"
   ]
  },
  {
   "cell_type": "markdown",
   "metadata": {},
   "source": [
    "### How many reviews in each contentRating-sub-groups in each app-category?"
   ]
  },
  {
   "cell_type": "code",
   "execution_count": 32,
   "metadata": {},
   "outputs": [
    {
     "data": {
      "text/html": [
       "<div>\n",
       "<style scoped>\n",
       "    .dataframe tbody tr th:only-of-type {\n",
       "        vertical-align: middle;\n",
       "    }\n",
       "\n",
       "    .dataframe tbody tr th {\n",
       "        vertical-align: top;\n",
       "    }\n",
       "\n",
       "    .dataframe thead th {\n",
       "        text-align: right;\n",
       "    }\n",
       "</style>\n",
       "<table border=\"1\" class=\"dataframe\">\n",
       "  <thead>\n",
       "    <tr style=\"text-align: right;\">\n",
       "      <th></th>\n",
       "      <th>appCategory</th>\n",
       "      <th>contentRating</th>\n",
       "      <th>Number_of_Reviews</th>\n",
       "    </tr>\n",
       "  </thead>\n",
       "  <tbody>\n",
       "    <tr>\n",
       "      <td>0</td>\n",
       "      <td>EDUCATION</td>\n",
       "      <td>Everyone</td>\n",
       "      <td>87861</td>\n",
       "    </tr>\n",
       "    <tr>\n",
       "      <td>1</td>\n",
       "      <td>ENTERTAINMENT</td>\n",
       "      <td>Everyone</td>\n",
       "      <td>14377</td>\n",
       "    </tr>\n",
       "    <tr>\n",
       "      <td>2</td>\n",
       "      <td>ENTERTAINMENT</td>\n",
       "      <td>Mature 17+</td>\n",
       "      <td>7278</td>\n",
       "    </tr>\n",
       "    <tr>\n",
       "      <td>3</td>\n",
       "      <td>ENTERTAINMENT</td>\n",
       "      <td>Teen</td>\n",
       "      <td>161863</td>\n",
       "    </tr>\n",
       "    <tr>\n",
       "      <td>4</td>\n",
       "      <td>FAMILY</td>\n",
       "      <td>Everyone</td>\n",
       "      <td>58645</td>\n",
       "    </tr>\n",
       "    <tr>\n",
       "      <td>5</td>\n",
       "      <td>FAMILY</td>\n",
       "      <td>Everyone 10+</td>\n",
       "      <td>48107</td>\n",
       "    </tr>\n",
       "    <tr>\n",
       "      <td>6</td>\n",
       "      <td>FINANCE</td>\n",
       "      <td>Everyone</td>\n",
       "      <td>141158</td>\n",
       "    </tr>\n",
       "    <tr>\n",
       "      <td>7</td>\n",
       "      <td>GAME ACTION</td>\n",
       "      <td>Everyone</td>\n",
       "      <td>87560</td>\n",
       "    </tr>\n",
       "    <tr>\n",
       "      <td>8</td>\n",
       "      <td>GAME ACTION</td>\n",
       "      <td>Mature 17+</td>\n",
       "      <td>29360</td>\n",
       "    </tr>\n",
       "    <tr>\n",
       "      <td>9</td>\n",
       "      <td>GAME ACTION</td>\n",
       "      <td>Teen</td>\n",
       "      <td>92577</td>\n",
       "    </tr>\n",
       "    <tr>\n",
       "      <td>10</td>\n",
       "      <td>HEALTH AND FITNESS</td>\n",
       "      <td>Everyone</td>\n",
       "      <td>109865</td>\n",
       "    </tr>\n",
       "    <tr>\n",
       "      <td>11</td>\n",
       "      <td>LIFESTYLE</td>\n",
       "      <td>Everyone</td>\n",
       "      <td>81224</td>\n",
       "    </tr>\n",
       "    <tr>\n",
       "      <td>12</td>\n",
       "      <td>LIFESTYLE</td>\n",
       "      <td>Mature 17+</td>\n",
       "      <td>21721</td>\n",
       "    </tr>\n",
       "    <tr>\n",
       "      <td>13</td>\n",
       "      <td>LIFESTYLE</td>\n",
       "      <td>Teen</td>\n",
       "      <td>3012</td>\n",
       "    </tr>\n",
       "    <tr>\n",
       "      <td>14</td>\n",
       "      <td>MUSIC AND AUDIO</td>\n",
       "      <td>Everyone</td>\n",
       "      <td>22754</td>\n",
       "    </tr>\n",
       "    <tr>\n",
       "      <td>15</td>\n",
       "      <td>MUSIC AND AUDIO</td>\n",
       "      <td>Teen</td>\n",
       "      <td>150227</td>\n",
       "    </tr>\n",
       "  </tbody>\n",
       "</table>\n",
       "</div>"
      ],
      "text/plain": [
       "           appCategory contentRating  Number_of_Reviews\n",
       "0            EDUCATION      Everyone              87861\n",
       "1        ENTERTAINMENT      Everyone              14377\n",
       "2        ENTERTAINMENT    Mature 17+               7278\n",
       "3        ENTERTAINMENT          Teen             161863\n",
       "4               FAMILY      Everyone              58645\n",
       "5               FAMILY  Everyone 10+              48107\n",
       "6              FINANCE      Everyone             141158\n",
       "7          GAME ACTION      Everyone              87560\n",
       "8          GAME ACTION    Mature 17+              29360\n",
       "9          GAME ACTION          Teen              92577\n",
       "10  HEALTH AND FITNESS      Everyone             109865\n",
       "11           LIFESTYLE      Everyone              81224\n",
       "12           LIFESTYLE    Mature 17+              21721\n",
       "13           LIFESTYLE          Teen               3012\n",
       "14     MUSIC AND AUDIO      Everyone              22754\n",
       "15     MUSIC AND AUDIO          Teen             150227"
      ]
     },
     "execution_count": 32,
     "metadata": {},
     "output_type": "execute_result"
    }
   ],
   "source": [
    "uniqueContentApps = full_data_details[['contentRating','appTitle']].drop_duplicates()\n",
    "\n",
    "# 'Unicorn Slime Maker and Simulator' was under 'Teen' earlier i.e. on 13-03-2019 and on all dates after that it was 'Everyone'\n",
    "# consider 'Everyone' for this app\n",
    "uniqueContentApps = uniqueContentApps[(uniqueContentApps['contentRating'] != 'Teen') | (uniqueContentApps['appTitle'] != 'Unicorn Slime Maker and Simulator')]\n",
    "\n",
    "# merge contentRating in the reviews dataset\n",
    "unique_reviews = unique_reviews.merge(uniqueContentApps, how = 'left', left_on = 'appTitle', right_on = 'appTitle')\n",
    "\n",
    "# using score for calculating reviews since its value is available for all the rows\n",
    "reviewsContentCategory = unique_reviews[['appCategory','contentRating','score']].groupby(['appCategory','contentRating']).count().reset_index()\n",
    "reviewsContentCategory.columns = ['appCategory','contentRating', 'Number_of_Reviews']\n",
    "reviewsContentCategory"
   ]
  },
  {
   "cell_type": "markdown",
   "metadata": {},
   "source": [
    "## Text Pre-processing"
   ]
  },
  {
   "cell_type": "markdown",
   "metadata": {},
   "source": [
    "Apply the following on the text column.\n",
    "- Remove the non-ASCII characters.\n",
    "- Remove punctuations.\n",
    "- Remove multiple characters if they occur more than 2 times continuously. Check your results so\n",
    "that it does not change words such as HELLO that has 2 Ls.\n",
    "7. Should we remove the reviews that contain two or less number of words?  \n",
    "    a. Justify your answers.  \n",
    "    b. Can we remove the reviews with two or less words for some score-sub-groups and keep\n",
    "    them in the other ones? E.g. if the review has score 1, we should remove such reviews, but\n",
    "    we should keep them if the rating is 5. Justify your answers.  \n",
    "- Remove the reviews that have two or less number of words."
   ]
  },
  {
   "cell_type": "code",
   "execution_count": 45,
   "metadata": {},
   "outputs": [],
   "source": [
    "import nltk\n",
    "from nltk.stem import PorterStemmer\n",
    "import re\n",
    "import string"
   ]
  },
  {
   "cell_type": "code",
   "execution_count": 46,
   "metadata": {},
   "outputs": [],
   "source": [
    "unique_reviews['text1'] = unique_reviews['text']\n",
    "unique_reviews['text1']  = unique_reviews['text1'].astype(str)\n",
    "\n",
    "# removing non ascii words\n",
    "def remove_non_ascii(text):\n",
    "    return re.sub(r'[^\\x00-\\x7F]+','', text)\n",
    "\n",
    "# removing punctuations\n",
    "def remove_punctuation(text):\n",
    "    return text.translate(str.maketrans('', '', string.punctuation))\n",
    "\n",
    "# removing multiple characters more than twice\n",
    "def remove_continuous(text):\n",
    "    return re.sub(r'(.)\\1{2,}', r'\\1\\1', text)\n",
    "\n",
    "# removing extra whitespaces from data\n",
    "def remove_spaces(text):\n",
    "    text = re.sub(r'\\s\\s+', ' ', text)\n",
    "    return text.strip()\n"
   ]
  },
  {
   "cell_type": "code",
   "execution_count": 47,
   "metadata": {},
   "outputs": [],
   "source": [
    "unique_reviews['text1'] = unique_reviews['text1'].map(remove_non_ascii)\n",
    "unique_reviews['text1'] = unique_reviews['text1'].map(remove_punctuation)\n",
    "unique_reviews['text1'] = unique_reviews['text1'].map(remove_continuous)\n",
    "unique_reviews['text1'] = unique_reviews['text1'].map(remove_spaces)"
   ]
  },
  {
   "cell_type": "markdown",
   "metadata": {},
   "source": [
    "## Analyzing Each Category"
   ]
  },
  {
   "cell_type": "markdown",
   "metadata": {},
   "source": [
    "### How many reviews are therefore for each score? "
   ]
  },
  {
   "cell_type": "code",
   "execution_count": 48,
   "metadata": {},
   "outputs": [
    {
     "data": {
      "text/html": [
       "<div>\n",
       "<style scoped>\n",
       "    .dataframe tbody tr th:only-of-type {\n",
       "        vertical-align: middle;\n",
       "    }\n",
       "\n",
       "    .dataframe tbody tr th {\n",
       "        vertical-align: top;\n",
       "    }\n",
       "\n",
       "    .dataframe thead th {\n",
       "        text-align: right;\n",
       "    }\n",
       "</style>\n",
       "<table border=\"1\" class=\"dataframe\">\n",
       "  <thead>\n",
       "    <tr style=\"text-align: right;\">\n",
       "      <th></th>\n",
       "      <th>Number of Reviews</th>\n",
       "    </tr>\n",
       "    <tr>\n",
       "      <th>score</th>\n",
       "      <th></th>\n",
       "    </tr>\n",
       "  </thead>\n",
       "  <tbody>\n",
       "    <tr>\n",
       "      <td>1</td>\n",
       "      <td>347082</td>\n",
       "    </tr>\n",
       "    <tr>\n",
       "      <td>2</td>\n",
       "      <td>80968</td>\n",
       "    </tr>\n",
       "    <tr>\n",
       "      <td>3</td>\n",
       "      <td>122651</td>\n",
       "    </tr>\n",
       "    <tr>\n",
       "      <td>4</td>\n",
       "      <td>250254</td>\n",
       "    </tr>\n",
       "    <tr>\n",
       "      <td>5</td>\n",
       "      <td>1718629</td>\n",
       "    </tr>\n",
       "  </tbody>\n",
       "</table>\n",
       "</div>"
      ],
      "text/plain": [
       "       Number of Reviews\n",
       "score                   \n",
       "1                 347082\n",
       "2                  80968\n",
       "3                 122651\n",
       "4                 250254\n",
       "5                1718629"
      ]
     },
     "execution_count": 48,
     "metadata": {},
     "output_type": "execute_result"
    }
   ],
   "source": [
    "reviewsByScore = pd.DataFrame(unique_reviews.groupby('score')['text'].count())\n",
    "reviewsByScore.columns = ['Number of Reviews']\n",
    "reviewsByScore"
   ]
  },
  {
   "cell_type": "markdown",
   "metadata": {},
   "source": [
    "### How many apps exist in each score-sub-group?"
   ]
  },
  {
   "cell_type": "code",
   "execution_count": 50,
   "metadata": {},
   "outputs": [
    {
     "data": {
      "text/html": [
       "<div>\n",
       "<style scoped>\n",
       "    .dataframe tbody tr th:only-of-type {\n",
       "        vertical-align: middle;\n",
       "    }\n",
       "\n",
       "    .dataframe tbody tr th {\n",
       "        vertical-align: top;\n",
       "    }\n",
       "\n",
       "    .dataframe thead th {\n",
       "        text-align: right;\n",
       "    }\n",
       "</style>\n",
       "<table border=\"1\" class=\"dataframe\">\n",
       "  <thead>\n",
       "    <tr style=\"text-align: right;\">\n",
       "      <th></th>\n",
       "      <th>Number of Apps</th>\n",
       "    </tr>\n",
       "    <tr>\n",
       "      <th>score</th>\n",
       "      <th></th>\n",
       "    </tr>\n",
       "  </thead>\n",
       "  <tbody>\n",
       "    <tr>\n",
       "      <td>1</td>\n",
       "      <td>86</td>\n",
       "    </tr>\n",
       "    <tr>\n",
       "      <td>2</td>\n",
       "      <td>86</td>\n",
       "    </tr>\n",
       "    <tr>\n",
       "      <td>3</td>\n",
       "      <td>86</td>\n",
       "    </tr>\n",
       "    <tr>\n",
       "      <td>4</td>\n",
       "      <td>86</td>\n",
       "    </tr>\n",
       "    <tr>\n",
       "      <td>5</td>\n",
       "      <td>86</td>\n",
       "    </tr>\n",
       "  </tbody>\n",
       "</table>\n",
       "</div>"
      ],
      "text/plain": [
       "       Number of Apps\n",
       "score                \n",
       "1                  86\n",
       "2                  86\n",
       "3                  86\n",
       "4                  86\n",
       "5                  86"
      ]
     },
     "execution_count": 50,
     "metadata": {},
     "output_type": "execute_result"
    }
   ],
   "source": [
    "appsByScore=pd.DataFrame(unique_reviews.groupby('score')['appTitle'].nunique())\n",
    "appsByScore.columns =[\"Number of Apps\"]\n",
    "appsByScore"
   ]
  },
  {
   "cell_type": "markdown",
   "metadata": {},
   "source": [
    "### Compare the number of reviews for each score in a plot (normalizing the numbers)"
   ]
  },
  {
   "cell_type": "code",
   "execution_count": 51,
   "metadata": {},
   "outputs": [
    {
     "data": {
      "text/html": [
       "<div>\n",
       "<style scoped>\n",
       "    .dataframe tbody tr th:only-of-type {\n",
       "        vertical-align: middle;\n",
       "    }\n",
       "\n",
       "    .dataframe tbody tr th {\n",
       "        vertical-align: top;\n",
       "    }\n",
       "\n",
       "    .dataframe thead th {\n",
       "        text-align: right;\n",
       "    }\n",
       "</style>\n",
       "<table border=\"1\" class=\"dataframe\">\n",
       "  <thead>\n",
       "    <tr style=\"text-align: right;\">\n",
       "      <th></th>\n",
       "      <th>Number of Reviews</th>\n",
       "      <th>Review_Normalize</th>\n",
       "    </tr>\n",
       "    <tr>\n",
       "      <th>score</th>\n",
       "      <th></th>\n",
       "      <th></th>\n",
       "    </tr>\n",
       "  </thead>\n",
       "  <tbody>\n",
       "    <tr>\n",
       "      <td>1</td>\n",
       "      <td>347082</td>\n",
       "      <td>0.162496</td>\n",
       "    </tr>\n",
       "    <tr>\n",
       "      <td>2</td>\n",
       "      <td>80968</td>\n",
       "      <td>0.000000</td>\n",
       "    </tr>\n",
       "    <tr>\n",
       "      <td>3</td>\n",
       "      <td>122651</td>\n",
       "      <td>0.025453</td>\n",
       "    </tr>\n",
       "    <tr>\n",
       "      <td>4</td>\n",
       "      <td>250254</td>\n",
       "      <td>0.103371</td>\n",
       "    </tr>\n",
       "    <tr>\n",
       "      <td>5</td>\n",
       "      <td>1718629</td>\n",
       "      <td>1.000000</td>\n",
       "    </tr>\n",
       "  </tbody>\n",
       "</table>\n",
       "</div>"
      ],
      "text/plain": [
       "       Number of Reviews  Review_Normalize\n",
       "score                                     \n",
       "1                 347082          0.162496\n",
       "2                  80968          0.000000\n",
       "3                 122651          0.025453\n",
       "4                 250254          0.103371\n",
       "5                1718629          1.000000"
      ]
     },
     "execution_count": 51,
     "metadata": {},
     "output_type": "execute_result"
    }
   ],
   "source": [
    "reviewsByScore['Review_Normalize']=(reviewsByScore[\"Number of Reviews\"]-reviewsByScore[\"Number of Reviews\"].min())/(reviewsByScore[\"Number of Reviews\"].max()-reviewsByScore[\"Number of Reviews\"].min())\n",
    "reviewsByScore"
   ]
  },
  {
   "cell_type": "code",
   "execution_count": 54,
   "metadata": {},
   "outputs": [
    {
     "data": {
      "image/png": "[encoded data removed]",
      "text/plain": [
       "<Figure size 432x288 with 1 Axes>"
      ]
     },
     "metadata": {
      "needs_background": "light"
     },
     "output_type": "display_data"
    }
   ],
   "source": [
    "import matplotlib.pyplot as plt\n",
    "reviewsByScore['score']=reviewsByScore.index\n",
    "reviewsByScore.plot.bar(x='score',y='Review_Normalize')\n",
    "plt.show()"
   ]
  },
  {
   "cell_type": "markdown",
   "metadata": {},
   "source": [
    "### What is the average length of the reviews in each score-sub-group?"
   ]
  },
  {
   "cell_type": "code",
   "execution_count": 55,
   "metadata": {},
   "outputs": [
    {
     "data": {
      "text/html": [
       "<div>\n",
       "<style scoped>\n",
       "    .dataframe tbody tr th:only-of-type {\n",
       "        vertical-align: middle;\n",
       "    }\n",
       "\n",
       "    .dataframe tbody tr th {\n",
       "        vertical-align: top;\n",
       "    }\n",
       "\n",
       "    .dataframe thead th {\n",
       "        text-align: right;\n",
       "    }\n",
       "</style>\n",
       "<table border=\"1\" class=\"dataframe\">\n",
       "  <thead>\n",
       "    <tr style=\"text-align: right;\">\n",
       "      <th></th>\n",
       "      <th>reviewLength</th>\n",
       "    </tr>\n",
       "    <tr>\n",
       "      <th>score</th>\n",
       "      <th></th>\n",
       "    </tr>\n",
       "  </thead>\n",
       "  <tbody>\n",
       "    <tr>\n",
       "      <td>1</td>\n",
       "      <td>102.524131</td>\n",
       "    </tr>\n",
       "    <tr>\n",
       "      <td>2</td>\n",
       "      <td>126.944413</td>\n",
       "    </tr>\n",
       "    <tr>\n",
       "      <td>3</td>\n",
       "      <td>94.105928</td>\n",
       "    </tr>\n",
       "    <tr>\n",
       "      <td>4</td>\n",
       "      <td>63.315972</td>\n",
       "    </tr>\n",
       "    <tr>\n",
       "      <td>5</td>\n",
       "      <td>36.124869</td>\n",
       "    </tr>\n",
       "  </tbody>\n",
       "</table>\n",
       "</div>"
      ],
      "text/plain": [
       "       reviewLength\n",
       "score              \n",
       "1        102.524131\n",
       "2        126.944413\n",
       "3         94.105928\n",
       "4         63.315972\n",
       "5         36.124869"
      ]
     },
     "execution_count": 55,
     "metadata": {},
     "output_type": "execute_result"
    }
   ],
   "source": [
    "unique_reviews['reviewLength']=unique_reviews['text1'].str.len()\n",
    "avglenByScore=pd.DataFrame(unique_reviews.groupby('score')['reviewLength'].mean())\n",
    "avglenByScore"
   ]
  },
  {
   "cell_type": "markdown",
   "metadata": {},
   "source": [
    "### Compare the average length of reviews in each score-sub-group in the 8 app categories"
   ]
  },
  {
   "cell_type": "code",
   "execution_count": 57,
   "metadata": {},
   "outputs": [
    {
     "data": {
      "image/png": "[encoded data removed]",
      "text/plain": [
       "<Figure size 432x288 with 1 Axes>"
      ]
     },
     "metadata": {
      "needs_background": "light"
     },
     "output_type": "display_data"
    }
   ],
   "source": [
    "import matplotlib.pyplot as plt\n",
    "avglenByScoreApp= pd.DataFrame(unique_reviews.groupby(['appCategory','score'])['reviewLength'].mean())\n",
    "avglenByScoreApp.unstack().plot(kind='bar',title=\"average length of reviews by score sub group\")\n",
    "plt.legend(loc='center left', bbox_to_anchor=(1.0, 0.5))\n",
    "plt.show()"
   ]
  },
  {
   "cell_type": "markdown",
   "metadata": {},
   "source": [
    "### Compare the number of reviews in each score-sub-group in the 8 app categories"
   ]
  },
  {
   "cell_type": "code",
   "execution_count": 58,
   "metadata": {},
   "outputs": [
    {
     "data": {
      "image/png": "[encoded data removed]",
      "text/plain": [
       "<Figure size 432x288 with 1 Axes>"
      ]
     },
     "metadata": {
      "needs_background": "light"
     },
     "output_type": "display_data"
    }
   ],
   "source": [
    "reviewsByScoreApp= pd.DataFrame(unique_reviews.groupby(['appCategory','score'])['text'].count())\n",
    "reviewsByScoreApp.unstack().plot(kind='bar',title =  \"number of reviews by score sub group\")\n",
    "plt.legend(loc='center left', bbox_to_anchor=(1.0, 0.5))\n",
    "plt.show()"
   ]
  },
  {
   "cell_type": "markdown",
   "metadata": {},
   "source": [
    "### Compare the number of apps in each score-sub-group in the 8 app categories"
   ]
  },
  {
   "cell_type": "code",
   "execution_count": 60,
   "metadata": {},
   "outputs": [
    {
     "data": {
      "image/png": "[encoded data removed]",
      "text/plain": [
       "<Figure size 432x288 with 1 Axes>"
      ]
     },
     "metadata": {
      "needs_background": "light"
     },
     "output_type": "display_data"
    }
   ],
   "source": [
    "appsByScoreApp= pd.DataFrame(unique_reviews.groupby(['appCategory','score'])['appTitle'].nunique())\n",
    "appsByScoreApp.unstack().plot(kind='bar',title = \"The number of apps in each score sub group\")\n",
    "plt.legend(loc='center left', bbox_to_anchor=(1.0, 0.5))\n",
    "plt.show()"
   ]
  },
  {
   "cell_type": "markdown",
   "metadata": {},
   "source": [
    "### Is there any correlation between the length of the reviews and the score in each app-category?"
   ]
  },
  {
   "cell_type": "code",
   "execution_count": 62,
   "metadata": {},
   "outputs": [
    {
     "data": {
      "text/html": [
       "<div>\n",
       "<style scoped>\n",
       "    .dataframe tbody tr th:only-of-type {\n",
       "        vertical-align: middle;\n",
       "    }\n",
       "\n",
       "    .dataframe tbody tr th {\n",
       "        vertical-align: top;\n",
       "    }\n",
       "\n",
       "    .dataframe thead th {\n",
       "        text-align: right;\n",
       "    }\n",
       "</style>\n",
       "<table border=\"1\" class=\"dataframe\">\n",
       "  <thead>\n",
       "    <tr style=\"text-align: right;\">\n",
       "      <th></th>\n",
       "      <th></th>\n",
       "      <th>reviewLength</th>\n",
       "    </tr>\n",
       "    <tr>\n",
       "      <th>appCategory</th>\n",
       "      <th></th>\n",
       "      <th></th>\n",
       "    </tr>\n",
       "  </thead>\n",
       "  <tbody>\n",
       "    <tr>\n",
       "      <td>EDUCATION</td>\n",
       "      <td>score</td>\n",
       "      <td>-0.211815</td>\n",
       "    </tr>\n",
       "    <tr>\n",
       "      <td>ENTERTAINMENT</td>\n",
       "      <td>score</td>\n",
       "      <td>-0.308545</td>\n",
       "    </tr>\n",
       "    <tr>\n",
       "      <td>FAMILY</td>\n",
       "      <td>score</td>\n",
       "      <td>-0.167289</td>\n",
       "    </tr>\n",
       "    <tr>\n",
       "      <td>FINANCE</td>\n",
       "      <td>score</td>\n",
       "      <td>-0.459384</td>\n",
       "    </tr>\n",
       "    <tr>\n",
       "      <td>GAME ACTION</td>\n",
       "      <td>score</td>\n",
       "      <td>-0.225748</td>\n",
       "    </tr>\n",
       "    <tr>\n",
       "      <td>HEALTH AND FITNESS</td>\n",
       "      <td>score</td>\n",
       "      <td>-0.342825</td>\n",
       "    </tr>\n",
       "    <tr>\n",
       "      <td>LIFESTYLE</td>\n",
       "      <td>score</td>\n",
       "      <td>-0.346035</td>\n",
       "    </tr>\n",
       "    <tr>\n",
       "      <td>MUSIC AND AUDIO</td>\n",
       "      <td>score</td>\n",
       "      <td>-0.402165</td>\n",
       "    </tr>\n",
       "  </tbody>\n",
       "</table>\n",
       "</div>"
      ],
      "text/plain": [
       "                          reviewLength\n",
       "appCategory                           \n",
       "EDUCATION          score     -0.211815\n",
       "ENTERTAINMENT      score     -0.308545\n",
       "FAMILY             score     -0.167289\n",
       "FINANCE            score     -0.459384\n",
       "GAME ACTION        score     -0.225748\n",
       "HEALTH AND FITNESS score     -0.342825\n",
       "LIFESTYLE          score     -0.346035\n",
       "MUSIC AND AUDIO    score     -0.402165"
      ]
     },
     "execution_count": 62,
     "metadata": {},
     "output_type": "execute_result"
    }
   ],
   "source": [
    "pd.DataFrame(unique_reviews.groupby('appCategory')[['score','reviewLength']].corr().iloc[0::2,-1])"
   ]
  },
  {
   "cell_type": "markdown",
   "metadata": {},
   "source": [
    "### Find the changes of the star rating and length of reviews during time for each app category"
   ]
  },
  {
   "cell_type": "code",
   "execution_count": 63,
   "metadata": {},
   "outputs": [
    {
     "data": {
      "text/plain": [
       "2019    2336260\n",
       "2018     157752\n",
       "2017      14291\n",
       "2016       7511\n",
       "2015       3833\n",
       "2014        102\n",
       "Name: year, dtype: int64"
      ]
     },
     "execution_count": 63,
     "metadata": {},
     "output_type": "execute_result"
    }
   ],
   "source": [
    "from dateutil.parser import parse\n",
    "unique_reviews['date'] = unique_reviews['date'].apply(lambda x: parse(x))\n",
    "unique_reviews['year'] = unique_reviews['date'].apply(lambda x: x.year)\n",
    "unique_reviews['month'] = unique_reviews['date'].apply(lambda x: x.month)\n",
    "unique_reviews['year'].value_counts()"
   ]
  },
  {
   "cell_type": "code",
   "execution_count": 68,
   "metadata": {},
   "outputs": [
    {
     "data": {
      "image/png": "[encoded data removed]",
      "text/plain": [
       "<Figure size 432x288 with 1 Axes>"
      ]
     },
     "metadata": {
      "needs_background": "light"
     },
     "output_type": "display_data"
    },
    {
     "data": {
      "image/png": "[encoded data removed]",
      "text/plain": [
       "<Figure size 432x288 with 1 Axes>"
      ]
     },
     "metadata": {
      "needs_background": "light"
     },
     "output_type": "display_data"
    },
    {
     "data": {
      "image/png": "[encoded data removed]",
      "text/plain": [
       "<Figure size 432x288 with 1 Axes>"
      ]
     },
     "metadata": {
      "needs_background": "light"
     },
     "output_type": "display_data"
    },
    {
     "data": {
      "image/png": "[encoded data removed]",
      "text/plain": [
       "<Figure size 432x288 with 1 Axes>"
      ]
     },
     "metadata": {
      "needs_background": "light"
     },
     "output_type": "display_data"
    },
    {
     "data": {
      "image/png": "[encoded data removed]",
      "text/plain": [
       "<Figure size 432x288 with 1 Axes>"
      ]
     },
     "metadata": {
      "needs_background": "light"
     },
     "output_type": "display_data"
    },
    {
     "data": {
      "image/png": "[encoded data removed]",
      "text/plain": [
       "<Figure size 432x288 with 1 Axes>"
      ]
     },
     "metadata": {
      "needs_background": "light"
     },
     "output_type": "display_data"
    },
    {
     "data": {
      "image/png": "[encoded data removed]",
      "text/plain": [
       "<Figure size 432x288 with 1 Axes>"
      ]
     },
     "metadata": {
      "needs_background": "light"
     },
     "output_type": "display_data"
    },
    {
     "data": {
      "image/png": "[encoded data removed]",
      "text/plain": [
       "<Figure size 432x288 with 1 Axes>"
      ]
     },
     "metadata": {
      "needs_background": "light"
     },
     "output_type": "display_data"
    }
   ],
   "source": [
    "import seaborn as sns\n",
    "# time analysis: score\n",
    "avgscoreByCategoryTime = unique_reviews[['appCategory','year','month','score','reviewLength']].groupby(['appCategory','year','month']).mean().reset_index()\n",
    "\n",
    "for category in avgscoreByCategoryTime['appCategory'].unique():\n",
    "    plt.figure(list(avgscoreByCategoryTime['appCategory'].unique()).index(category))\n",
    "    ax = sns.barplot(x='month', y='score', hue='year', data=avgscoreByCategoryTime[avgscoreByCategoryTime['appCategory']==category])\n",
    "    plt.legend(bbox_to_anchor=(1.05, 1), loc=2, borderaxespad=0.)\n",
    "    plt.xlabel('month')\n",
    "    plt.ylabel('avgScore')\n",
    "    plt.title(\"Time Analysis: \" +'score - '+str(category))"
   ]
  },
  {
   "cell_type": "code",
   "execution_count": 69,
   "metadata": {},
   "outputs": [
    {
     "data": {
      "image/png": "[encoded data removed]",
      "text/plain": [
       "<Figure size 432x288 with 1 Axes>"
      ]
     },
     "metadata": {
      "needs_background": "light"
     },
     "output_type": "display_data"
    },
    {
     "data": {
      "image/png": "[encoded data removed]",
      "text/plain": [
       "<Figure size 432x288 with 1 Axes>"
      ]
     },
     "metadata": {
      "needs_background": "light"
     },
     "output_type": "display_data"
    },
    {
     "data": {
      "image/png": "[encoded data removed]",
      "text/plain": [
       "<Figure size 432x288 with 1 Axes>"
      ]
     },
     "metadata": {
      "needs_background": "light"
     },
     "output_type": "display_data"
    },
    {
     "data": {
      "image/png": "[encoded data removed]",
      "text/plain": [
       "<Figure size 432x288 with 1 Axes>"
      ]
     },
     "metadata": {
      "needs_background": "light"
     },
     "output_type": "display_data"
    },
    {
     "data": {
      "image/png": "[encoded data removed]",
      "text/plain": [
       "<Figure size 432x288 with 1 Axes>"
      ]
     },
     "metadata": {
      "needs_background": "light"
     },
     "output_type": "display_data"
    },
    {
     "data": {
      "image/png": "[encoded data removed]",
      "text/plain": [
       "<Figure size 432x288 with 1 Axes>"
      ]
     },
     "metadata": {
      "needs_background": "light"
     },
     "output_type": "display_data"
    },
    {
     "data": {
      "image/png": "[encoded data removed]",
      "text/plain": [
       "<Figure size 432x288 with 1 Axes>"
      ]
     },
     "metadata": {
      "needs_background": "light"
     },
     "output_type": "display_data"
    },
    {
     "data": {
      "image/png": "[encoded data removed]",
      "text/plain": [
       "<Figure size 432x288 with 1 Axes>"
      ]
     },
     "metadata": {
      "needs_background": "light"
     },
     "output_type": "display_data"
    }
   ],
   "source": [
    "#time analysis: reivew length\n",
    "\n",
    "for category in avgscoreByCategoryTime['appCategory'].unique():\n",
    "    plt.figure(list(avgscoreByCategoryTime['appCategory'].unique()).index(category))\n",
    "    ax = sns.barplot(x='month', y='reviewLength', hue='year', data=avgscoreByCategoryTime[avgscoreByCategoryTime['appCategory']==category])\n",
    "    plt.legend(bbox_to_anchor=(1.05, 1), loc=2, borderaxespad=0.)\n",
    "    plt.xlabel('month')\n",
    "    plt.ylabel('reviewLength')\n",
    "    plt.title(\"Time Analysis: \" +'Review Length - '+str(category))"
   ]
  },
  {
   "cell_type": "code",
   "execution_count": null,
   "metadata": {},
   "outputs": [],
   "source": []
  }
 ],
 "metadata": {
  "kernelspec": {
   "display_name": "Python (other-env)",
   "language": "python",
   "name": "other-env"
  },
  "language_info": {
   "codemirror_mode": {
    "name": "ipython",
    "version": 3
   },
   "file_extension": ".py",
   "mimetype": "text/x-python",
   "name": "python",
   "nbconvert_exporter": "python",
   "pygments_lexer": "ipython3",
   "version": "3.7.4"
  }
 },
 "nbformat": 4,
 "nbformat_minor": 2
}
